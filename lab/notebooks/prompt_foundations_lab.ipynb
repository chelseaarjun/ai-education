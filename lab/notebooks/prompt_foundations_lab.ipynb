{
 "cells": [
  {
   "cell_type": "markdown",
   "metadata": {},
   "source": [
    "# Part 1: Module 2: Prompt Engineering Lab: Customer Feedback Analysis\n",
    "\n",
    "In this lab, you'll learn how to iteratively improve prompts for analyzing customer feedback using a variety of prompt engineering techniques. You'll see how each technique can help you get clearer, more actionable responses from a language model.\n",
    "\n",
    "**Customer Feedback Example:**\n",
    "> I ordered a coffee maker last week, but it still hasn’t arrived. The tracking link doesn’t work, and I can’t get through to customer service. I’m really frustrated."
   ]
  },
  {
   "cell_type": "markdown",
   "metadata": {},
   "source": [
    "## Setup\n",
    "\n",
    "\n",
    "This notebook is compatible with both [MyBinder](https://mybinder.org/) and AWS SageMaker.\n",
    "\n",
    "**Environment Notes:**\n",
    "- **MyBinder:** You must provide your own AWS credentials (see below).\n",
    "- **AWS SageMaker:** Credentials are pre-configured in your environment.\n",
    "\n",
    "**Install dependencies:**\n",
    "```python\n",
    "!pip install -r requirements.txt --quiet\n",
    "```\n",
    "\n",
    "**Environment Notes:**\n",
    "- **MyBinder:** You must provide your own AWS credentials (see below).\n",
    "- **AWS SageMaker:** Credentials are pre-configured in your environment.\n",
    "\n",
    "**AWS Credentials Setup:**\n",
    "- **MyBinder:** Set your credentials as environment variables in a cell (do NOT share credentials):\n",
    "```python\n",
    "import os\n",
    "os.environ['AWS_ACCESS_KEY_ID'] = 'YOUR_ACCESS_KEY'\n",
    "os.environ['AWS_SECRET_ACCESS_KEY'] = 'YOUR_SECRET_KEY'\n",
    "os.environ['AWS_DEFAULT_REGION'] = 'us-west-2'  # or your region\n",
    "```\n",
    "- **SageMaker:** No action needed unless you want to override the default region."
   ]
  },
  {
   "cell_type": "code",
   "execution_count": 3,
   "metadata": {},
   "outputs": [
    {
     "name": "stdout",
     "output_type": "stream",
     "text": [
      "✅ Packages installed successfully!\n"
     ]
    }
   ],
   "source": [
    "# MyBinder users: set your credentials here (do NOT share real keys)\n",
    "import os\n",
    "# os.environ['AWS_ACCESS_KEY_ID'] = 'YOUR_ACCESS_KEY'\n",
    "# os.environ['AWS_SECRET_ACCESS_KEY'] = 'YOUR_SECRET_KEY'\n",
    "# os.environ['AWS_DEFAULT_REGION'] = 'us-west-2'  # or your region\n",
    "\n",
    "# Install required packages (run this cell first)\n",
    "#!pip install -r requirements.txt --quiet\n",
    "print(\"✅ Packages installed successfully!\")\n",
    "\n",
    "import boto3\n",
    "# Set the Claude model ID (update as needed for your account)\n",
    "model_id = 'anthropic.claude-3-5-sonnet-20241022-v2:0'  # Example: Claude 3.5 Sonnet\n",
    "\n",
    "\n",
    "region = os.environ.get('AWS_DEFAULT_REGION', 'us-west-2')\n",
    "bedrock = boto3.client('bedrock-runtime', region_name=region)\n",
    "# You can find available model IDs using the earlier Bedrock listing cell.\n",
    "\n",
    "customer_feedback = \"I ordered a coffee maker last week, but it still hasn’t arrived. \\\n",
    "The tracking link doesn’t work, and I can’t get through to customer service. I’m really frustrated.\""
   ]
  },
  {
   "cell_type": "code",
   "execution_count": 2,
   "metadata": {},
   "outputs": [],
   "source": [
    "import json\n",
    "\n",
    "def call_bedrock_model(prompt, system_prompt=None):\n",
    "    # Create the request body\n",
    "    request_body = {\n",
    "        \"anthropic_version\": \"bedrock-2023-05-31\",\n",
    "        \"max_tokens\": 1000,\n",
    "        \"messages\": [\n",
    "            {\n",
    "                \"role\": \"user\",\n",
    "                \"content\": prompt\n",
    "            }\n",
    "        ],\n",
    "        \"temperature\": 0,\n",
    "        \"top_k\": 1\n",
    "    }\n",
    "    # Add the system prompt if provided\n",
    "    if system_prompt is not None:\n",
    "        request_body[\"system\"] = system_prompt\n",
    "\n",
    "    response = bedrock.invoke_model(\n",
    "        modelId=model_id,\n",
    "        body=json.dumps(request_body),\n",
    "        contentType='application/json'\n",
    "    )\n",
    "    result = json.loads(response['body'].read())\n",
    "    model_response = result['content'][0]['text'].strip()\n",
    "    print('Model response:')\n",
    "    print(model_response)\n",
    "    return model_response"
   ]
  },
  {
   "cell_type": "markdown",
   "metadata": {},
   "source": [
    "## 1. The \"Bad\" Prompt (Prompt Design Challenges)\n",
    "This prompt is vague and lacks structure. Run it and observe the model's output. What problems do you notice?"
   ]
  },
  {
   "cell_type": "code",
   "execution_count": 3,
   "metadata": {},
   "outputs": [
    {
     "name": "stdout",
     "output_type": "stream",
     "text": [
      "Model response:\n",
      "I understand your frustration with the delayed delivery and communication issues. While I can't directly track your order or contact customer service for you, I can suggest some steps to help:\n",
      "\n",
      "1. Double-check your order confirmation email for the correct tracking number\n",
      "2. Try tracking through the carrier's website directly (USPS, FedEx, UPS, etc.)\n",
      "3. Contact the seller through alternative means:\n",
      "- Email\n",
      "- Social media channels\n",
      "- Their website's chat function\n",
      "- Alternative customer service numbers\n",
      "\n",
      "Would you like me to help you think through which of these options might work best in your situation?\n"
     ]
    }
   ],
   "source": [
    "bad_prompt = (\n",
    "    f\"{customer_feedback}\\n\\n\"\n",
    "    \"What’s wrong here? Can you help?\")\n",
    "# Call your model here and print the response\n",
    "response = call_bedrock_model(bad_prompt)"
   ]
  },
  {
   "cell_type": "markdown",
   "metadata": {},
   "source": [
    "## 2. CRISP Framework Practice\n",
    "Now, let's structure the prompt using the CRISP framework (without role assignment).\n",
    "\n",
    "**Instructions:**\n",
    "- Read the customer feedback below.\n",
    "- Summarize the main problem and suggest one practical next step the company should take to help this customer.\n",
    "- Format your answer as:\n",
    "    - **Summary:**\n",
    "    - **Main Problem:**\n",
    "    - **Suggested Next Step:**"
   ]
  },
  {
   "cell_type": "code",
   "execution_count": 6,
   "metadata": {},
   "outputs": [
    {
     "name": "stdout",
     "output_type": "stream",
     "text": [
      "Model response:\n",
      "Summary: Customer experiencing multiple service failures related to a delayed coffee maker order.\n",
      "• Order delivery delay beyond expected timeframe\n",
      "• Non-functional tracking system\n",
      "• Inaccessible customer service\n",
      "• Multiple touchpoint failures creating compound frustration\n",
      "\n",
      "Main Problem: Multiple system breakdowns creating a negative customer experience chain reaction.\n",
      "Primary:\n",
      "• Order fulfillment delay without customer communication\n",
      "Secondary:\n",
      "• Broken tracking link preventing order status visibility\n",
      "Tertiary:\n",
      "• Unresponsive/inaccessible customer service channels\n",
      "Other:\n",
      "• Lack of proactive issue resolution systems\n",
      "\n",
      "Suggested Next Steps: Implement immediate customer resolution while addressing systemic issues.\n",
      "Immediate:\n",
      "• Contact customer directly with order status and estimated delivery date\n",
      "• Provide working tracking information\n",
      "• Offer compensation (discount/free shipping on next order)\n",
      "• Assign dedicated customer service representative\n",
      "\n",
      "Short-term:\n",
      "• Audit tracking system functionality\n",
      "• Review customer service capacity and response times\n",
      "• Implement automated order delay notifications\n",
      "• Create escalation protocol for delayed orders\n",
      "\n",
      "Medium-term:\n",
      "• Upgrade order tracking system\n",
      "• Enhance customer service accessibility\n",
      "• Implement proactive order status monitoring\n",
      "• Develop service recovery protocols\n",
      "\n",
      "Long-term:\n",
      "• Integrate real-time inventory and shipping systems\n",
      "• Establish omnichannel customer service platform\n",
      "• Create automated issue detection and resolution systems\n",
      "• Implement continuous monitoring and improvement processes\n"
     ]
    }
   ],
   "source": [
    "crisp_prompt = (\n",
    "    f\"Read the customer feedback below:\\n\"\n",
    "    f\"{customer_feedback}\\n\\n\"\n",
    "    f\"Summarize the main problem and suggest practical next steps the company should take to help this customer and the escalation path to fix this issue permanently.\\n\"\n",
    "    f\"Please format your answer as:\\n\"\n",
    "    f\"Summary:<overview>\\n\"\n",
    "    f\"<bullet points>\\n\\n\"\n",
    "    f\"Main Problem:<overview>\\n\"\n",
    "    f\"<Primary>\\n\"\n",
    "    f\"<Secondary>\\n\"\n",
    "    f\"<Tertiary>\\n\"\n",
    "    f\"<Other>\\n\\n\"\n",
    "    f\"Suggested Next Steps:<overview>\\n\"\n",
    "    f\"<Immediate>\\n\"\n",
    "    f\"<Short-term>\\n\"\n",
    "    f\"<Medium-term>\\n\"\n",
    "    f\"<Long-term>\\n\"\n",
    "    \"For each section, provide a one sentence <overview> and details as bullet points ordered by priority\"\n",
    ")\n",
    "#Call your model here and print the response\n",
    "response = call_bedrock_model(crisp_prompt)"
   ]
  },
  {
   "cell_type": "markdown",
   "metadata": {},
   "source": [
    "## 3. Role Assignment\n",
    "Now, let's add a role to the prompt.\n",
    "\n",
    "**Instructions:**\n",
    "- Add a specific role to the prompt (e.g., customer support specialist).\n",
    "- Observe how the model's response changes."
   ]
  },
  {
   "cell_type": "code",
   "execution_count": 7,
   "metadata": {},
   "outputs": [
    {
     "name": "stdout",
     "output_type": "stream",
     "text": [
      "Model response:\n",
      "Summary: Customer experiencing multiple service failures related to a delayed coffee maker order.\n",
      "• Order delivery delay without clear status\n",
      "• Non-functioning tracking system\n",
      "• Inaccessible customer service\n",
      "• Compounding frustration due to multiple touchpoint failures\n",
      "\n",
      "Main Problem: Multiple system breakdowns creating a negative customer experience spiral.\n",
      "Primary:\n",
      "• Order tracking/delivery system failure\n",
      "Secondary:\n",
      "• Non-functional tracking link indicating potential system integration issues\n",
      "Tertiary:\n",
      "• Inaccessible customer service suggesting capacity or system problems\n",
      "Other:\n",
      "• Risk of customer churn due to multiple simultaneous service failures\n",
      "\n",
      "Suggested Next Steps: Implement immediate customer resolution while addressing systemic issues.\n",
      "Immediate:\n",
      "• Directly contact customer within 1 hour with order status and estimated delivery\n",
      "• Provide direct contact number/email for dedicated support agent\n",
      "• Offer compensation (expedited shipping, discount, or gift card)\n",
      "• Manually trace order through fulfillment system\n",
      "\n",
      "Short-term:\n",
      "• Investigate tracking link failure\n",
      "• Audit customer service accessibility\n",
      "• Document incident for quality improvement\n",
      "• Follow up with customer post-delivery\n",
      "\n",
      "Medium-term:\n",
      "• Review and upgrade order tracking system\n",
      "• Enhance customer service capacity\n",
      "• Implement backup communication channels\n",
      "• Create escalation protocol for multiple-failure scenarios\n",
      "\n",
      "Long-term:\n",
      "• Establish automated system monitoring\n",
      "• Develop predictive maintenance for tracking system\n",
      "• Create omnichannel customer service strategy\n",
      "• Implement regular stress testing of all customer-facing systems\n"
     ]
    }
   ],
   "source": [
    "system_prompt = (\n",
    "    f\"You are an expert customer support specialist for an online retailer with 20 years of experience.\\n\"\n",
    "    \"Your job is to analyze customer feedback and suggest practical next steps to help the customer.\"\n",
    ")\n",
    "#Call your model here and print the response\n",
    "response = call_bedrock_model(crisp_prompt, system_prompt=system_prompt)"
   ]
  },
  {
   "cell_type": "markdown",
   "metadata": {},
   "source": [
    "## 4. Self-Evaluation\n",
    "Now, let's have the model critique its own answer or ask clarifying questions.\n",
    "\n",
    "**Instructions:**\n",
    "- After providing your answer, review it for any uncertainties or missing information.\n",
    "- If anything is unclear, list clarifying questions you would ask the customer."
   ]
  },
  {
   "cell_type": "code",
   "execution_count": 8,
   "metadata": {},
   "outputs": [
    {
     "name": "stdout",
     "output_type": "stream",
     "text": [
      "Model response:\n",
      "Summary: Customer experiencing multiple service failures related to a delayed coffee maker order\n",
      "• Order delivery status unknown\n",
      "• Tracking functionality not working\n",
      "• Customer service accessibility issues\n",
      "• Customer expressing significant frustration\n",
      "\n",
      "Main Problem: Multiple breakdowns in the order fulfillment and customer service system\n",
      "Primary:\n",
      "• Unable to track or locate order status\n",
      "Secondary:\n",
      "• Non-functional tracking link\n",
      "Tertiary:\n",
      "• Inaccessible customer service\n",
      "Other:\n",
      "• Potential loss of customer trust and satisfaction\n",
      "\n",
      "Suggested Next Steps: Implement immediate resolution while addressing systemic issues\n",
      "Immediate:\n",
      "• Locate order in system and provide updated status to customer\n",
      "• Offer immediate callback from customer service team\n",
      "• Provide alternative tracking information or delivery timeline\n",
      "Short-term:\n",
      "• Issue compensation (shipping refund or discount)\n",
      "• Ensure delivery within 24-48 hours\n",
      "• Follow up with delivery confirmation\n",
      "Medium-term:\n",
      "• Audit tracking link system functionality\n",
      "• Review customer service accessibility issues\n",
      "Long-term:\n",
      "• Implement automated order status notification system\n",
      "• Enhance customer service capacity and accessibility\n",
      "• Develop backup tracking systems\n",
      "\n",
      "Clarifying Questions:\n",
      "1. When exactly was the order placed (specific date)?\n",
      "2. What shipping method was selected?\n",
      "3. What is the order number?\n",
      "4. How have they attempted to contact customer service (phone, email, chat)?\n",
      "5. Has any payment been processed from their account?\n",
      "6. Have they received any order confirmation or shipping emails?\n",
      "7. What is their preferred contact method for follow-up?\n"
     ]
    }
   ],
   "source": [
    "self_eval_prompt = (\n",
    "    f\"{crisp_prompt}\\n\\n\"\n",
    "    \"After your answer, review it for any uncertainties or missing information. If anything is unclear, list clarifying questions you would ask the customer.\"\n",
    ")\n",
    "#Call your model here and print the response\n",
    "response = call_bedrock_model(self_eval_prompt, system_prompt)"
   ]
  },
  {
   "cell_type": "markdown",
   "metadata": {},
   "source": [
    "## 5. Prompt Chaining\n",
    "Break the task into sequential steps, using the output of one prompt as input for the next.\n",
    "\n",
    "**Step 1:** Extract all issues mentioned in the customer feedback."
   ]
  },
  {
   "cell_type": "code",
   "execution_count": 9,
   "metadata": {},
   "outputs": [
    {
     "name": "stdout",
     "output_type": "stream",
     "text": [
      "Model response:\n",
      "[\n",
      "  \"delayed delivery\",\n",
      "  \"tracking link not working\",\n",
      "  \"customer service unreachable\"\n",
      "]\n"
     ]
    }
   ],
   "source": [
    "import json\n",
    "\n",
    "chaining_step1_prompt = (\n",
    "    f\"Extract all issues mentioned in the following customer feedback and output should be just a JSON list of strings:\\n\"\n",
    "    f\"{customer_feedback}\\n\\n\"\n",
    ")\n",
    "#Call your model here and print the response\n",
    "response = call_bedrock_model(chaining_step1_prompt)\n",
    "issues = json.loads(response)"
   ]
  },
  {
   "cell_type": "markdown",
   "metadata": {},
   "source": [
    "**Step 2:** For each issue identified, suggest a specific action the company should take."
   ]
  },
  {
   "cell_type": "code",
   "execution_count": 11,
   "metadata": {},
   "outputs": [
    {
     "name": "stdout",
     "output_type": "stream",
     "text": [
      "\n",
      "\n",
      "Issue: delayed delivery\n",
      "Model response:\n",
      "As an experienced customer support specialist, here are the 2 most critical questions to diagnose delivery delays:\n",
      "\n",
      "1. \"At which point in the shipping journey did the delay occur? (Order processing, carrier pickup, in-transit, or last-mile delivery)\"\n",
      "- This helps identify if it's an internal warehouse issue, carrier problem, or specific route bottleneck\n",
      "- Allows for targeted solutions based on where the breakdown happened\n",
      "\n",
      "2. \"Is this delay pattern occurring with specific product categories, shipping carriers, or geographical regions?\"\n",
      "- Reveals if delays are systemic (affecting all orders) or specific to certain variables\n",
      "- Helps identify if we need to change carriers for certain routes or adjust processing for specific products\n",
      "\n",
      "These questions provide actionable data to implement effective solutions rather than just treating symptoms.\n",
      "\n",
      "\n",
      "Issue: tracking link not working\n",
      "Model response:\n",
      "As an experienced customer support specialist, here are the 2 most critical questions to diagnose a \"tracking link not working\" issue:\n",
      "\n",
      "1. \"When was your order placed, and could you please provide your order number?\"\n",
      "- This establishes a timeline and helps access specific order details\n",
      "- Allows verification if tracking should be available yet (some orders take 24-48 hours for tracking)\n",
      "- Helps identify if it's a recent order or an older one having issues\n",
      "\n",
      "2. \"What happens when you click the tracking link - do you get an error message, a blank page, or something else?\"\n",
      "- Distinguishes between technical issues (broken link) vs timing issues (tracking not yet active)\n",
      "- Helps identify if it's a browser/device specific problem\n",
      "- Allows support to replicate the exact issue the customer is experiencing\n",
      "\n",
      "These questions provide the foundation for efficient troubleshooting while showing the customer we're taking their concern seriously.\n",
      "\n",
      "\n",
      "Issue: customer service unreachable\n",
      "Model response:\n",
      "As an experienced customer support specialist, here are the 2 most critical questions to diagnose \"customer service unreachable\" complaints:\n",
      "\n",
      "1. \"Through which channels did you attempt to contact customer service (phone, email, chat, etc.) and at what specific times did you try to reach us?\"\n",
      "- This identifies if the issue is channel-specific or system-wide\n",
      "- Reveals potential peak time staffing gaps\n",
      "- Helps validate if published contact hours are being met\n",
      "\n",
      "2. \"What happened when you tried to connect - did you receive any error messages, automated responses, or were you unable to find contact information?\"\n",
      "- Distinguishes between technical issues (broken phone system/chat) vs. staffing issues\n",
      "- Identifies potential website navigation problems\n",
      "- Reveals if automated response systems are functioning properly\n",
      "\n",
      "These questions provide actionable data to determine if the root cause is:\n",
      "- Technical infrastructure problems\n",
      "- Staffing/capacity issues\n",
      "- Website/UX problems\n",
      "- Hours of operation misalignment\n"
     ]
    }
   ],
   "source": [
    "import time\n",
    "# Use the output from Step 1 as input here\n",
    "for issue in issues:\n",
    "    print(f\"\\n\\nIssue: {issue}\")\n",
    "    prompt = (\n",
    "        f\"Suggest top 2 questions to help the company get to the root cause of this issue: \\\"{issue}\\\"\"\n",
    "    )\n",
    "    response = call_bedrock_model(prompt, system_prompt)\n",
    "    time.sleep(5)"
   ]
  },
  {
   "cell_type": "markdown",
   "metadata": {},
   "source": [
    "## 6. Chain-of-Thought Prompting\n",
    "Guide the model to reason step-by-step."
   ]
  },
  {
   "cell_type": "code",
   "execution_count": 12,
   "metadata": {},
   "outputs": [
    {
     "name": "stdout",
     "output_type": "stream",
     "text": [
      "Model response:\n",
      "Let me break this down step by step:\n",
      "\n",
      "1. Restating the main concern:\n",
      "The customer is frustrated because they haven't received their coffee maker purchase and are unable to get status updates or assistance.\n",
      "\n",
      "2. Identifying all issues:\n",
      "- Delayed delivery (ordered last week, hasn't arrived)\n",
      "- Non-functional tracking link\n",
      "- Inaccessible customer service\n",
      "\n",
      "3. Questions for each issue:\n",
      "\n",
      "Delayed delivery:\n",
      "- When exactly was the order placed (date and time)?\n",
      "- Was there a specific delivery timeframe promised at checkout?\n",
      "\n",
      "Non-functional tracking link:\n",
      "- When was the last time the tracking link worked?\n",
      "- Has the customer received any shipping confirmation email with an order/tracking number?\n",
      "\n",
      "Inaccessible customer service:\n",
      "- What methods has the customer tried to contact customer service (phone, email, chat)?\n",
      "- What times/days has the customer attempted to reach customer service?\n",
      "\n",
      "These questions would help the company understand:\n",
      "- If the delivery is actually delayed or still within normal timeframes\n",
      "- If there's a technical issue with their tracking system\n",
      "- If there are problems with their customer service accessibility\n"
     ]
    },
    {
     "data": {
      "text/plain": [
       "\"Let me break this down step by step:\\n\\n1. Restating the main concern:\\nThe customer is frustrated because they haven't received their coffee maker purchase and are unable to get status updates or assistance.\\n\\n2. Identifying all issues:\\n- Delayed delivery (ordered last week, hasn't arrived)\\n- Non-functional tracking link\\n- Inaccessible customer service\\n\\n3. Questions for each issue:\\n\\nDelayed delivery:\\n- When exactly was the order placed (date and time)?\\n- Was there a specific delivery timeframe promised at checkout?\\n\\nNon-functional tracking link:\\n- When was the last time the tracking link worked?\\n- Has the customer received any shipping confirmation email with an order/tracking number?\\n\\nInaccessible customer service:\\n- What methods has the customer tried to contact customer service (phone, email, chat)?\\n- What times/days has the customer attempted to reach customer service?\\n\\nThese questions would help the company understand:\\n- If the delivery is actually delayed or still within normal timeframes\\n- If there's a technical issue with their tracking system\\n- If there are problems with their customer service accessibility\""
      ]
     },
     "execution_count": 12,
     "metadata": {},
     "output_type": "execute_result"
    }
   ],
   "source": [
    "cot_prompt = (\n",
    "    \"Read the customer feedback below:\\n\"\n",
    "    f\"{customer_feedback}\\n\\n\"\n",
    "    \"Think step-by-step:\\n\"\n",
    "    \"1. Restate the customer’s main concern in your own words.\\n\"\n",
    "    \"2. Identify all the issues the customer is experiencing.\\n\"\n",
    "    \"4. For each issue, suggest top 2 questions to help the company get to the root cause of this issue\"\n",
    ")\n",
    "#Call your model here and print the response\n",
    "call_bedrock_model(cot_prompt)"
   ]
  },
  {
   "cell_type": "markdown",
   "metadata": {},
   "source": [
    "## 7. Multi-Path Reasoning (Tree of Thoughts)\n",
    "Ask the model to consider multiple solution paths and select the best.\n",
    "\n",
    "**Instructions:**\n",
    "- List three different ways the company could address the customer’s main problem.\n",
    "- For each approach, explain the pros and cons.\n",
    "- Then, select the best approach and justify your choice."
   ]
  },
  {
   "cell_type": "code",
   "execution_count": 10,
   "metadata": {},
   "outputs": [
    {
     "name": "stdout",
     "output_type": "stream",
     "text": [
      "Model response:\n",
      "Here are three approaches to address the customer's delivery and communication issues:\n",
      "\n",
      "1. Immediate Replacement Shipment\n",
      "Pros:\n",
      "- Quick resolution for the customer\n",
      "- Shows commitment to customer satisfaction\n",
      "- Eliminates further waiting time\n",
      "\n",
      "Cons:\n",
      "- Additional cost for the company\n",
      "- Original package might still arrive (duplicate shipment)\n",
      "- Doesn't address underlying tracking/communication issues\n",
      "\n",
      "2. Priority Customer Service Response\n",
      "Pros:\n",
      "- Provides personal attention to the issue\n",
      "- Can investigate and explain the specific problem\n",
      "- Maintains communication with customer\n",
      "\n",
      "Cons:\n",
      "- May take time to research the issue\n",
      "- Customer remains without their product\n",
      "- Requires additional customer service resources\n",
      "\n",
      "3. Automated Status Update + Compensation\n",
      "Pros:\n",
      "- Immediate acknowledgment of the problem\n",
      "- Customer gets clear timeline and compensation\n",
      "- Scalable solution for similar issues\n",
      "\n",
      "Cons:\n",
      "- Less personal approach\n",
      "- May not satisfy customers wanting immediate resolution\n",
      "- Additional cost of compensation\n",
      "\n",
      "Best Approach: Priority Customer Service Response\n",
      "\n",
      "Justification:\n",
      "This approach is best because it addresses both immediate concerns (locating the package) and systemic issues (tracking/communication problems). While it may not be the fastest solution, it provides the most sustainable resolution by:\n",
      "- Identifying the root cause of the delivery issue\n",
      "- Fixing the tracking link problem\n",
      "- Improving communication channels\n",
      "- Preventing similar issues in the future\n",
      "\n",
      "This approach also allows the company to maintain control of the situation and choose the most appropriate solution based on their investigation, whether that's expediting the original shipment, sending a replacement, or offering compensation.\n"
     ]
    },
    {
     "data": {
      "text/plain": [
       "\"Here are three approaches to address the customer's delivery and communication issues:\\n\\n1. Immediate Replacement Shipment\\nPros:\\n- Quick resolution for the customer\\n- Shows commitment to customer satisfaction\\n- Eliminates further waiting time\\n\\nCons:\\n- Additional cost for the company\\n- Original package might still arrive (duplicate shipment)\\n- Doesn't address underlying tracking/communication issues\\n\\n2. Priority Customer Service Response\\nPros:\\n- Provides personal attention to the issue\\n- Can investigate and explain the specific problem\\n- Maintains communication with customer\\n\\nCons:\\n- May take time to research the issue\\n- Customer remains without their product\\n- Requires additional customer service resources\\n\\n3. Automated Status Update + Compensation\\nPros:\\n- Immediate acknowledgment of the problem\\n- Customer gets clear timeline and compensation\\n- Scalable solution for similar issues\\n\\nCons:\\n- Less personal approach\\n- May not satisfy customers wanting immediate resolution\\n- Additional cost of compensation\\n\\nBest Approach: Priority Customer Service Response\\n\\nJustification:\\nThis approach is best because it addresses both immediate concerns (locating the package) and systemic issues (tracking/communication problems). While it may not be the fastest solution, it provides the most sustainable resolution by:\\n- Identifying the root cause of the delivery issue\\n- Fixing the tracking link problem\\n- Improving communication channels\\n- Preventing similar issues in the future\\n\\nThis approach also allows the company to maintain control of the situation and choose the most appropriate solution based on their investigation, whether that's expediting the original shipment, sending a replacement, or offering compensation.\""
      ]
     },
     "execution_count": 10,
     "metadata": {},
     "output_type": "execute_result"
    }
   ],
   "source": [
    "tree_of_thoughts_prompt = (\n",
    "    \"Read the customer feedback below:\\n\"\n",
    "    f\"{customer_feedback}\\n\\n\"\n",
    "    \"List three different ways the company could address the customer’s main problem.\\n\"\n",
    "    \"For each approach, explain the pros and cons.\\n\"\n",
    "    \"Then, select the best approach and justify your choice.\"\n",
    ")\n",
    "#Call your model here and print the response\n",
    "call_bedrock_model(tree_of_thoughts_prompt)"
   ]
  },
  {
   "cell_type": "markdown",
   "metadata": {},
   "source": [
    "---\n",
    "\n",
    "## Note: Enabling Explicit Reasoning with Claude 3.7 Sonnet on AWS Bedrock\n",
    "\n",
    "With Claude 3.7 Sonnet on AWS Bedrock, you can enable explicit step-by-step reasoning (\"extended thinking\") using special API parameters.\n",
    "\n",
    "- Set `thinking: true` and specify a `budget_tokens` value in your API request. thinking mode is OFF by default. \n",
    "- The model will return its reasoning process in separate `thinking` blocks, in addition to the final answer.\n",
    "- You cannot use `temperature`, `top_p`, or `top_k` with reasoning mode enabled.\n",
    "\n",
    "#### Best Practices for Reasoning Mode (`thinking`) in Claude 3.7 Sonnet\n",
    "\n",
    "- **Always set** `budget_tokens < max_tokens`.\n",
    "- **Minimum** `budget_tokens`: **1,024** tokens  \n",
    "  _Anthropic recommends at least **4,000** tokens for more comprehensive and nuanced reasoning._\n",
    "- **For multi-turn conversations:**  \n",
    "  Preserve and return the **complete, unmodified `thinking` blocks** to maintain context and reasoning continuity.\n",
    "\n",
    "#### Important Notes\n",
    "- **Incompatible parameters:**: You **cannot use** `temperature`, `top_p`, or `top_k` with reasoning mode enabled.\n",
    "- **Billing:**: You are **billed for thinking tokens** as output tokens. They also count towards your service quota token per minute (TPM) limit.\n",
    "- **Redacted thinking blocks:**: May appear if the reasoning output does not meet safety standards.\n",
    "- **Multi-turn conversations:**: Thinking blocks associated with earlier assistant messages do **not** get charged as input tokens.\n",
    "- **Increased latency**: Plan for longer response times due to extra processing and output generation and adjust your client timeouts accordingly.\n",
    "\n",
    "**Example API call:**\n",
    "```json\n",
    "{\n",
    "  \"modelId\": \"anthropic.claude-3-7-sonnet\",\n",
    "  \"messages\": [...],\n",
    "  \"thinking\": true,\n",
    "  \"budget_tokens\": 4000,\n",
    "  \"max_tokens\": 8000\n",
    "}\n",
    "```\n",
    "\n",
    "For more details, see the [AWS Bedrock Claude 3.7 Sonnet Thinking Blocks documentation](https://docs.aws.amazon.com/bedrock/latest/userguide/model-parameters-anthropic-claude-37.html#model-parameters-anthropic-claude-37-thinking-blocks).\n"
   ]
  },
  {
   "cell_type": "markdown",
   "metadata": {},
   "source": [
    "## Student Reflection\n",
    "Which technique produced the most useful or reliable answer for this scenario? How did the model’s responses change as you refined your prompts?"
   ]
  }
 ],
 "metadata": {
  "kernelspec": {
   "display_name": "Python 3",
   "language": "python",
   "name": "python3"
  },
  "language_info": {
   "codemirror_mode": {
    "name": "ipython",
    "version": 3
   },
   "file_extension": ".py",
   "mimetype": "text/x-python",
   "name": "python",
   "nbconvert_exporter": "python",
   "pygments_lexer": "ipython3",
   "version": "3.10.14"
  }
 },
 "nbformat": 4,
 "nbformat_minor": 2
}
