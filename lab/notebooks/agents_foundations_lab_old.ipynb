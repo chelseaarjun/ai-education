{
 "cells": [
  {
   "cell_type": "markdown",
   "metadata": {},
   "source": [
    "# Lab: Building a Cognitive Language Agent with Memory, Tools, and the Decision Cycle\n",
    "\n",
    "Welcome! In this lab, you'll build a simple agent that can remember, use tools, and act autonomously using AWS Bedrock's Claude Sonnet model."
   ]
  },
  {
   "cell_type": "markdown",
   "metadata": {},
   "source": [
    "## Learning Objectives\n",
    "\n",
    "- Set up AWS Bedrock and Claude Sonnet for agent reasoning\n",
    "- Implement agent memory using a vector store (FAISS)\n",
    "- Build and register tools for agent use\n",
    "- Implement the agent decision cycle (Observe → Plan → Act)\n",
    "- Experiment with agentic vs. single-shot LLM workflows"
   ]
  },
  {
   "cell_type": "markdown",
   "metadata": {},
   "source": [
    "## 1. Environment Setup\n",
    "\n",
    "This notebook works on both [MyBinder](https://mybinder.org/) and AWS SageMaker.\n",
    "\n",
    "**AWS Credentials:**\n",
    "- **MyBinder:** Set your credentials as environment variables in a cell (do NOT share credentials).\n",
    "- **SageMaker:** Credentials are pre-configured.\n",
    "\n",
    "**Dependencies:**  \n",
    "- `boto3` (AWS SDK)\n",
    "- `faiss-cpu` (vector store)\n",
    "- `sentence-transformers` (embeddings)\n",
    "- `matplotlib`, `pandas` (optional, for visualization)"
   ]
  },
  {
   "cell_type": "markdown",
   "metadata": {},
   "source": []
  },
  {
   "cell_type": "code",
   "execution_count": 3,
   "metadata": {},
   "outputs": [
    {
     "name": "stderr",
     "output_type": "stream",
     "text": [
      "/Users/arjunasoknair/Library/Python/3.9/lib/python/site-packages/tqdm/auto.py:21: TqdmWarning: IProgress not found. Please update jupyter and ipywidgets. See https://ipywidgets.readthedocs.io/en/stable/user_install.html\n",
      "  from .autonotebook import tqdm as notebook_tqdm\n"
     ]
    }
   ],
   "source": [
    "# If running locally or on MyBinder, uncomment the next line:\n",
    "# !pip install boto3 faiss-cpu sentence-transformers matplotlib pandas\n",
    "import os\n",
    "import boto3\n",
    "import json\n",
    "import numpy as np\n",
    "import faiss\n",
    "from sentence_transformers import SentenceTransformer\n",
    "import pandas as pd\n",
    "import matplotlib.pyplot as plt"
   ]
  },
  {
   "cell_type": "code",
   "execution_count": 4,
   "metadata": {},
   "outputs": [],
   "source": [
    "# MyBinder users: set your credentials here (do NOT share real keys)\n",
    "# os.environ['AWS_ACCESS_KEY_ID'] = 'YOUR_ACCESS_KEY'\n",
    "# os.environ['AWS_SECRET_ACCESS_KEY'] = 'YOUR_SECRET_KEY'\n",
    "# os.environ['AWS_DEFAULT_REGION'] = 'us-west-2'  # or your region\n",
    "\n",
    "region = os.environ.get('AWS_DEFAULT_REGION', 'us-west-2')\n",
    "bedrock = boto3.client('bedrock-runtime', region_name=region)"
   ]
  },
  {
   "cell_type": "code",
   "execution_count": 5,
   "metadata": {},
   "outputs": [],
   "source": [
    "# Set the Claude model ID (update as needed for your account)\n",
    "model_id = 'anthropic.claude-3-sonnet-20240229-v1:0'  # or 'anthropic.claude-3-5-sonnet-20241022-v2:0'\n",
    "\n",
    "def call_bedrock_claude(prompt, system_prompt=None, max_tokens=512):\n",
    "    request_body = {\n",
    "        \"anthropic_version\": \"bedrock-2023-05-31\",\n",
    "        \"max_tokens\": max_tokens,\n",
    "        \"messages\": [\n",
    "            {\"role\": \"user\", \"content\": prompt}\n",
    "        ],\n",
    "        \"temperature\": 0.2,\n",
    "        \"top_k\": 1\n",
    "    }\n",
    "    if system_prompt:\n",
    "        request_body[\"system\"] = system_prompt\n",
    "\n",
    "    response = bedrock.invoke_model(\n",
    "        modelId=model_id,\n",
    "        body=json.dumps(request_body),\n",
    "        contentType='application/json'\n",
    "    )\n",
    "    result = json.loads(response['body'].read())\n",
    "    return result['content'][0]['text'].strip()"
   ]
  },
  {
   "cell_type": "markdown",
   "metadata": {},
   "source": [
    "## 2. Implementing Agent Memory with a Vector Store\n",
    "\n",
    "We'll use FAISS for fast similarity search and `sentence-transformers` for embeddings.\n",
    "- **Working memory:** Current context\n",
    "- **Episodic memory:** Vector store of past user/agent turns"
   ]
  },
  {
   "cell_type": "code",
   "execution_count": null,
   "metadata": {},
   "outputs": [],
   "source": []
  }
 ],
 "metadata": {
  "kernelspec": {
   "display_name": "Python 3",
   "language": "python",
   "name": "python3"
  },
  "language_info": {
   "codemirror_mode": {
    "name": "ipython",
    "version": 3
   },
   "file_extension": ".py",
   "mimetype": "text/x-python",
   "name": "python",
   "nbconvert_exporter": "python",
   "pygments_lexer": "ipython3",
   "version": "3.9.6"
  }
 },
 "nbformat": 4,
 "nbformat_minor": 2
}
