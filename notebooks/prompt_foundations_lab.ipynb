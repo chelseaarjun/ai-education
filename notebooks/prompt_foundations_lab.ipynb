{
 "cells": [
  {
   "cell_type": "markdown",
   "metadata": {},
   "source": [
    "# Prompt Engineering Lab: Customer Feedback Analysis\n",
    "\n",
    "In this lab, you'll learn how to iteratively improve prompts for analyzing customer feedback using a variety of prompt engineering techniques. You'll see how each technique can help you get clearer, more actionable responses from a language model.\n",
    "\n",
    "**Customer Feedback Example:**\n",
    "> I ordered a coffee maker last week, but it still hasn’t arrived. The tracking link doesn’t work, and I can’t get through to customer service. I’m really frustrated."
   ]
  },
  {
   "cell_type": "markdown",
   "metadata": {},
   "source": [
    "## Setup\n",
    "\n",
    "\n",
    "This notebook is compatible with both [MyBinder](https://mybinder.org/) and AWS SageMaker.\n",
    "\n",
    "**Environment Notes:**\n",
    "- **MyBinder:** You must provide your own AWS credentials (see below).\n",
    "- **AWS SageMaker:** Credentials are pre-configured in your environment.\n",
    "\n",
    "**AWS Credentials Setup:**\n",
    "- **MyBinder:** Set your credentials as environment variables in a cell (do NOT share credentials):\n",
    "```python\n",
    "import os\n",
    "os.environ['AWS_ACCESS_KEY_ID'] = 'YOUR_ACCESS_KEY'\n",
    "os.environ['AWS_SECRET_ACCESS_KEY'] = 'YOUR_SECRET_KEY'\n",
    "os.environ['AWS_DEFAULT_REGION'] = 'us-west-2'  # or your region\n",
    "```\n",
    "- **SageMaker:** No action needed unless you want to override the default region."
   ]
  },
  {
   "cell_type": "code",
   "execution_count": 1,
   "metadata": {},
   "outputs": [],
   "source": [
    "import os\n",
    "import boto3\n",
    "\n",
    "os.environ['AWS_ACCESS_KEY_ID'] = 'YOUR_ACCESS_KEY'\n",
    "os.environ['AWS_SECRET_ACCESS_KEY'] = 'YOUR_SECRET_KEY'\n",
    "os.environ['AWS_DEFAULT_REGION'] = 'us-west-2'\n",
    "\n",
    "# Set the Claude model ID to use for all Bedrock calls\n",
    "# Update this value as needed for your Bedrock account.\n",
    "model_id = 'anthropic.claude-3-5-sonnet-20241022-v2:0'  # Example: Claude 3.5 Sonnet\n",
    "\n",
    "\n",
    "region = os.environ.get('AWS_DEFAULT_REGION', 'us-west-2')\n",
    "bedrock = boto3.client('bedrock-runtime', region_name=region)\n",
    "# You can find available model IDs using the earlier Bedrock listing cell.\n",
    "\n",
    "customer_feedback = \"I ordered a coffee maker last week, but it still hasn’t arrived. \\\n",
    "The tracking link doesn’t work, and I can’t get through to customer service. I’m really frustrated.\""
   ]
  },
  {
   "cell_type": "code",
   "execution_count": 2,
   "metadata": {},
   "outputs": [],
   "source": [
    "import json\n",
    "\n",
    "def call_bedrock_model(prompt):\n",
    "    # Create the request body\n",
    "    request_body = {\n",
    "        \"anthropic_version\": \"bedrock-2023-05-31\",\n",
    "        \"max_tokens\": 1000,\n",
    "        \"messages\": [\n",
    "            {\n",
    "                \"role\": \"user\",\n",
    "                \"content\": prompt\n",
    "            }\n",
    "        ],\n",
    "        \"temperature\": 0,\n",
    "        \"top_k\": 1\n",
    "    }\n",
    "\n",
    "    response = bedrock.invoke_model(\n",
    "        modelId=model_id,\n",
    "        body=json.dumps(request_body),\n",
    "        contentType='application/json'\n",
    "    )\n",
    "    result = json.loads(response['body'].read())\n",
    "    model_response = result['content'][0]['text'].strip()\n",
    "    print('Model response:')\n",
    "    print(model_response)\n",
    "    return model_response"
   ]
  },
  {
   "cell_type": "markdown",
   "metadata": {},
   "source": [
    "## 1. The \"Bad\" Prompt (Prompt Design Challenges)\n",
    "This prompt is vague and lacks structure. Run it and observe the model's output. What problems do you notice?"
   ]
  },
  {
   "cell_type": "code",
   "execution_count": 3,
   "metadata": {},
   "outputs": [
    {
     "name": "stdout",
     "output_type": "stream",
     "text": [
      "Model response:\n",
      "I understand your frustration with the delayed delivery and communication issues. While I can't directly track your order or contact customer service for you, I can suggest some steps to help:\n",
      "\n",
      "1. Double-check your order confirmation email for the correct tracking number\n",
      "2. Try tracking through the carrier's website directly (USPS, FedEx, UPS, etc.)\n",
      "3. Contact the seller through alternative means:\n",
      "- Email\n",
      "- Social media channels\n",
      "- Their website's chat function\n",
      "- Alternative customer service numbers\n",
      "\n",
      "Would you like me to help you think through which of these options might work best in your situation?\n"
     ]
    }
   ],
   "source": [
    "bad_prompt = (\n",
    "    f\"{customer_feedback}\\n\\n\"\n",
    "    \"What’s wrong here? Can you help?\")\n",
    "# Call your model here and print the response\n",
    "response = call_bedrock_model(bad_prompt)"
   ]
  },
  {
   "cell_type": "markdown",
   "metadata": {},
   "source": [
    "## 2. CRISP Framework Practice\n",
    "Now, let's structure the prompt using the CRISP framework (without role assignment).\n",
    "\n",
    "**Instructions:**\n",
    "- Read the customer feedback below.\n",
    "- Summarize the main problem and suggest one practical next step the company should take to help this customer.\n",
    "- Format your answer as:\n",
    "    - **Summary:**\n",
    "    - **Main Problem:**\n",
    "    - **Suggested Next Step:**"
   ]
  },
  {
   "cell_type": "code",
   "execution_count": 4,
   "metadata": {},
   "outputs": [
    {
     "name": "stdout",
     "output_type": "stream",
     "text": [
      "Model response:\n",
      "Summary: Customer experiencing multiple service failures related to a delayed coffee maker order.\n",
      "• Order delivery is delayed beyond expected timeframe\n",
      "• Tracking functionality is not working\n",
      "• Customer service is unresponsive\n",
      "• Customer expressing clear dissatisfaction\n",
      "\n",
      "Main Problem: Multiple breakdowns in the order fulfillment and customer communication system requiring both immediate and systemic fixes.\n",
      "• Primary issue is lack of order visibility and status\n",
      "• Failed customer service touchpoints preventing resolution\n",
      "• Broken tracking system indicating technical issues\n",
      "• Multiple failure points suggesting systemic problems\n",
      "\n",
      "Suggested Next Steps: Immediate customer resolution needed while addressing underlying system issues.\n",
      "Immediate Actions:\n",
      "• Directly contact customer with order status and estimated delivery date\n",
      "• Provide working tracking information or alternative status updates\n",
      "• Offer compensation (expedited shipping, discount, or free item)\n",
      "\n",
      "Long-term Fixes:\n",
      "• Audit tracking system functionality and repair technical issues\n",
      "• Review customer service capacity and response protocols\n",
      "• Implement automated order status notification system\n",
      "• Create escalation pathway for multiple-failure situations\n"
     ]
    }
   ],
   "source": [
    "crisp_prompt = (\n",
    "    f\"Read the customer feedback below:\\n\"\n",
    "    f\"{customer_feedback}\\n\\n\"\n",
    "    f\"Summarize the main problem and suggest practical next steps the company should take to help this customer and the escalation path to fix this issue permanently.\\n\"\n",
    "    f\"Please format your answer as:\\n\"\n",
    "    f\"Summary:<overview>\\n\"\n",
    "    f\"<bullet points>\\n\\n\"\n",
    "    f\"Main Problem:<overview>\\n\"\n",
    "    f\"<bullet points>\\n\\n\"\n",
    "    f\"Suggested Next Steps:<overview>\\n\"\n",
    "    f\"<bullet points>\\n\\n\"\n",
    "    \"For each section, provide a one sentence <overview> and details as max 3 to 4 <bullet points> ordered by priority\"\n",
    ")\n",
    "#Call your model here and print the response\n",
    "response = call_bedrock_model(crisp_prompt)"
   ]
  },
  {
   "cell_type": "markdown",
   "metadata": {},
   "source": [
    "## 3. Role Assignment\n",
    "Now, let's add a role to the prompt.\n",
    "\n",
    "**Instructions:**\n",
    "- Add a specific role to the prompt (e.g., customer support specialist).\n",
    "- Observe how the model's response changes."
   ]
  },
  {
   "cell_type": "code",
   "execution_count": 5,
   "metadata": {},
   "outputs": [
    {
     "name": "stdout",
     "output_type": "stream",
     "text": [
      "Model response:\n",
      "Summary: Customer experiencing multiple service failures related to a delayed coffee maker order.\n",
      "• Order delivery is delayed beyond expected timeframe\n",
      "• Tracking functionality is not working\n",
      "• Customer service is inaccessible\n",
      "• Multiple touchpoints failing simultaneously creating compound frustration\n",
      "\n",
      "Main Problem: Core issue is lack of order visibility combined with failed customer service access.\n",
      "• Non-functional tracking system prevents customer self-service\n",
      "• Customer service accessibility failure removes backup support option\n",
      "• Customer has no way to determine order status or resolution timeline\n",
      "• Communication breakdown on multiple channels\n",
      "\n",
      "Suggested Next Steps: Immediate customer outreach needed with clear resolution path and system fixes.\n",
      "• Contact customer directly with order status and specific delivery timeline\n",
      "• Provide direct contact information for dedicated support representative\n",
      "• Investigate and fix tracking system technical issues\n",
      "• Review and enhance customer service accessibility protocols including backup contact methods\n"
     ]
    }
   ],
   "source": [
    "role_prompt = (\n",
    "    f\"You are an expert customer support specialist for an online retailer with 20 years of experience.\\n\"\n",
    "    f\"Read the customer feedback below:\\n\"\n",
    "    f\"{customer_feedback}\\n\\n\"\n",
    "    f\"Summarize the main problem and suggest practical next steps the company should take to help this customer and the escalation path to fix this issue permanently.\\n\"\n",
    "    f\"Please format your answer as:\\n\"\n",
    "    f\"Summary:<overview>\\n\"\n",
    "    f\"<bullet points>\\n\\n\"\n",
    "    f\"Main Problem:<overview>\\n\"\n",
    "    f\"<bullet points>\\n\\n\"\n",
    "    f\"Suggested Next Step:<overview>\\n\"\n",
    "    f\"<bullet points>\\n\\n\"\n",
    "    f\"For each section, provide a one sentence <overview> and details as max 3 to 4 <bullet points> ordered by priority\"\n",
    ")\n",
    "#Call your model here and print the response\n",
    "response = call_bedrock_model(role_prompt)"
   ]
  },
  {
   "cell_type": "markdown",
   "metadata": {},
   "source": [
    "## 4. Self-Evaluation\n",
    "Now, let's have the model critique its own answer or ask clarifying questions.\n",
    "\n",
    "**Instructions:**\n",
    "- After providing your answer, review it for any uncertainties or missing information.\n",
    "- If anything is unclear, list clarifying questions you would ask the customer."
   ]
  },
  {
   "cell_type": "code",
   "execution_count": 6,
   "metadata": {},
   "outputs": [
    {
     "name": "stdout",
     "output_type": "stream",
     "text": [
      "Model response:\n",
      "Summary: Customer experiencing multiple service failures related to a delayed coffee maker order.\n",
      "• Order delivery is delayed beyond expected timeframe\n",
      "• Tracking functionality is not working\n",
      "• Customer service is inaccessible\n",
      "• Customer expressing clear frustration with overall experience\n",
      "\n",
      "Main Problem: Multiple system breakdowns creating compounded negative customer experience.\n",
      "• Primary shipping/logistics failure (delayed delivery)\n",
      "• Technical failure (broken tracking link)\n",
      "• Service failure (unreachable customer support)\n",
      "• Lack of proactive communication about issues\n",
      "\n",
      "Suggested Next Steps: Immediate customer contact and resolution while addressing systemic issues.\n",
      "• Contact customer directly with sincere apology and order status update\n",
      "• Provide working tracking information or specific delivery timeline\n",
      "• Offer compensation (expedited shipping, partial refund, or gift card)\n",
      "• Escalate to logistics and IT teams to investigate tracking system failure\n",
      "\n",
      "Clarifying Questions Needed:\n",
      "1. When was the original expected delivery date?\n",
      "2. What shipping method was selected?\n",
      "3. What specific customer service channels were attempted (phone, email, chat)?\n",
      "4. Has the customer received any order confirmation or shipping notification emails?\n",
      "5. What is the order number for reference?\n",
      "6. Which region/location is the delivery intended for?\n",
      "\n",
      "These details would help provide more targeted assistance and identify potential systemic issues in specific service areas or regions.\n"
     ]
    }
   ],
   "source": [
    "self_eval_prompt = (\n",
    "    f\"You are an expert customer support specialist for an online retailer with 20 years of experience.\\n\"\n",
    "    f\"Read the customer feedback below:\\n\"\n",
    "    f\"{customer_feedback}\\n\\n\"\n",
    "    f\"Summarize the main problem and suggest practical next steps the company should take to help this customer and the escalation path to fix this issue permanently.\\n\"\n",
    "    f\"Please format your answer as:\\n\"\n",
    "    f\"Summary:<overview>\\n\"\n",
    "    f\"<bullet points>\\n\\n\"\n",
    "    f\"Main Problem:<overview>\\n\"\n",
    "    f\"<bullet points>\\n\\n\"\n",
    "    f\"Suggested Next Step:<overview>\\n\"\n",
    "    f\"<bullet points>\\n\\n\"\n",
    "    f\"For each section, provide a one sentence <overview> and details as max 3 to 4 <bullet points> ordered by priority\\n\"\n",
    "    \"After your answer, review it for any uncertainties or missing information. If anything is unclear, list clarifying questions you would ask the customer.\"\n",
    ")\n",
    "#Call your model here and print the response\n",
    "response = call_bedrock_model(self_eval_prompt)"
   ]
  },
  {
   "cell_type": "markdown",
   "metadata": {},
   "source": [
    "## 5. Prompt Chaining\n",
    "Break the task into sequential steps, using the output of one prompt as input for the next.\n",
    "\n",
    "**Step 1:** Extract all issues mentioned in the customer feedback."
   ]
  },
  {
   "cell_type": "code",
   "execution_count": 7,
   "metadata": {},
   "outputs": [
    {
     "name": "stdout",
     "output_type": "stream",
     "text": [
      "Model response:\n",
      "[\n",
      "  \"delayed delivery\",\n",
      "  \"broken tracking link\",\n",
      "  \"inaccessible customer service\"\n",
      "]\n"
     ]
    }
   ],
   "source": [
    "import json\n",
    "\n",
    "chaining_step1_prompt = (\n",
    "    f\"Extract all issues mentioned in the following customer feedback and output should be just a JSON list of strings:\\n\"\n",
    "    f\"{customer_feedback}\\n\\n\"\n",
    ")\n",
    "#Call your model here and print the response\n",
    "response = call_bedrock_model(chaining_step1_prompt)\n",
    "issues = json.loads(response)"
   ]
  },
  {
   "cell_type": "markdown",
   "metadata": {},
   "source": [
    "**Step 2:** For each issue identified, suggest a specific action the company should take."
   ]
  },
  {
   "cell_type": "code",
   "execution_count": 12,
   "metadata": {},
   "outputs": [
    {
     "name": "stdout",
     "output_type": "stream",
     "text": [
      "\n",
      "\n",
      "Issue: delayed delivery\n",
      "Model response:\n",
      "As an experienced customer support specialist, I recommend these 2 key diagnostic questions to identify the root cause of delayed deliveries:\n",
      "\n",
      "1. \"At which point in the shipping journey did the delay occur? (Order processing, warehouse pickup, in transit, or last-mile delivery)\"\n",
      "- This helps pinpoint exactly where the breakdown happened in the fulfillment chain\n",
      "- Reveals if it's an internal process issue or carrier-related problem\n",
      "- Allows for targeted solutions based on the specific stage\n",
      "\n",
      "2. \"Is this delay pattern occurring with specific product categories, shipping carriers, or geographical regions?\"\n",
      "- Identifies if the issue is systemic or isolated\n",
      "- Helps detect patterns (e.g., certain carriers consistently underperforming)\n",
      "- Enables data-driven decisions for long-term fixes\n",
      "\n",
      "These questions provide actionable insights while being specific enough to drive meaningful improvements in delivery performance.\n",
      "\n",
      "\n",
      "Issue: broken tracking link\n",
      "Model response:\n",
      "As an experienced customer support specialist, I would recommend these 2 key diagnostic questions to identify the root cause of a broken tracking link issue:\n",
      "\n",
      "1. \"When exactly did you receive the tracking number, and through which communication channel (email, SMS, order confirmation page)?\"\n",
      "- This helps identify if there's a system integration issue with our notification system\n",
      "- Reveals potential delays between shipping and tracking number generation\n",
      "- Can expose problems with specific communication channels\n",
      "\n",
      "2. \"What happens when you click the tracking link - do you get a specific error message, or does it redirect you to an unexpected page?\"\n",
      "- Distinguishes between technical issues (404 errors, server problems) vs carrier API issues\n",
      "- Helps identify if the problem is widespread or carrier-specific\n",
      "- Can reveal if the tracking number format is correct but the link structure is broken\n",
      "\n",
      "These questions provide critical information to determine if the issue is related to our system, the shipping carrier's API, or a communication breakdown between systems.\n",
      "\n",
      "\n",
      "Issue: inaccessible customer service\n",
      "Model response:\n",
      "As an experienced customer support specialist, I would recommend these 2 key diagnostic questions to identify the root cause of \"inaccessible customer service\":\n",
      "\n",
      "1. \"Through which channels (phone, email, chat, social media) are customers attempting to reach customer service, and what are the average wait times/response times for each channel?\"\n",
      "- This reveals where the bottlenecks are occurring\n",
      "- Helps identify if the issue is channel-specific or system-wide\n",
      "- Shows if resources are properly allocated across channels\n",
      "\n",
      "2. \"What is the current ratio of customer service representatives to incoming customer inquiries during peak vs. off-peak hours?\"\n",
      "- Exposes staffing gaps\n",
      "- Highlights capacity planning issues\n",
      "- Indicates if the problem is consistent or time-dependent\n",
      "\n",
      "These questions target both the customer experience and operational aspects, providing actionable insights for improvement.\n"
     ]
    }
   ],
   "source": [
    "import time\n",
    "# Use the output from Step 1 as input here\n",
    "for issue in issues:\n",
    "    print(f\"\\n\\nIssue: {issue}\")\n",
    "    prompt = (\n",
    "        f\"You are an expert customer support specialist for an online retailer with 20 years of experience.\\n\"\n",
    "        f\"Suggest top 2 questions to help the company get to the root cause of this issue: \\\"{issue}\\\"\"\n",
    "    )\n",
    "    response = call_bedrock_model(prompt)\n",
    "    time.sleep(5)"
   ]
  },
  {
   "cell_type": "markdown",
   "metadata": {},
   "source": [
    "## 6. Chain-of-Thought Prompting\n",
    "Guide the model to reason step-by-step."
   ]
  },
  {
   "cell_type": "code",
   "execution_count": 9,
   "metadata": {},
   "outputs": [
    {
     "name": "stdout",
     "output_type": "stream",
     "text": [
      "Model response:\n",
      "Let me break this down step by step:\n",
      "\n",
      "1. Restating the main concern:\n",
      "The customer is unable to receive or track their coffee maker order and cannot get assistance from customer service.\n",
      "\n",
      "2. Identifying all issues:\n",
      "- Delayed delivery of coffee maker\n",
      "- Non-functioning tracking link\n",
      "- Inability to reach customer service\n",
      "\n",
      "3. Questions for each issue:\n",
      "\n",
      "Delayed delivery:\n",
      "- When exactly was the order placed (date and time)?\n",
      "- Was there a specific delivery timeframe promised during checkout?\n",
      "\n",
      "Non-functioning tracking link:\n",
      "- What error message appears when trying to access the tracking link?\n",
      "- Through which method was the tracking link provided (email, text, website)?\n",
      "\n",
      "Customer service accessibility:\n",
      "- What methods have you tried to contact customer service (phone, email, chat)?\n",
      "- What times/days have you attempted to reach customer service?\n",
      "\n",
      "These questions would help the company:\n",
      "- Verify if the delivery is actually delayed against promised timeline\n",
      "- Identify if there's a technical issue with their tracking system\n",
      "- Evaluate and improve their customer service accessibility\n"
     ]
    },
    {
     "data": {
      "text/plain": [
       "\"Let me break this down step by step:\\n\\n1. Restating the main concern:\\nThe customer is unable to receive or track their coffee maker order and cannot get assistance from customer service.\\n\\n2. Identifying all issues:\\n- Delayed delivery of coffee maker\\n- Non-functioning tracking link\\n- Inability to reach customer service\\n\\n3. Questions for each issue:\\n\\nDelayed delivery:\\n- When exactly was the order placed (date and time)?\\n- Was there a specific delivery timeframe promised during checkout?\\n\\nNon-functioning tracking link:\\n- What error message appears when trying to access the tracking link?\\n- Through which method was the tracking link provided (email, text, website)?\\n\\nCustomer service accessibility:\\n- What methods have you tried to contact customer service (phone, email, chat)?\\n- What times/days have you attempted to reach customer service?\\n\\nThese questions would help the company:\\n- Verify if the delivery is actually delayed against promised timeline\\n- Identify if there's a technical issue with their tracking system\\n- Evaluate and improve their customer service accessibility\""
      ]
     },
     "execution_count": 9,
     "metadata": {},
     "output_type": "execute_result"
    }
   ],
   "source": [
    "cot_prompt = (\n",
    "    \"Read the customer feedback below:\\n\"\n",
    "    f\"{customer_feedback}\\n\\n\"\n",
    "    \"Think step-by-step:\\n\"\n",
    "    \"1. Restate the customer’s main concern in your own words.\\n\"\n",
    "    \"2. Identify all the issues the customer is experiencing.\\n\"\n",
    "    \"4. For each issue, suggest top 2 questions to help the company get to the root cause of this issue\"\n",
    ")\n",
    "#Call your model here and print the response\n",
    "call_bedrock_model(cot_prompt)"
   ]
  },
  {
   "cell_type": "markdown",
   "metadata": {},
   "source": [
    "## 7. Multi-Path Reasoning (Tree of Thoughts)\n",
    "Ask the model to consider multiple solution paths and select the best.\n",
    "\n",
    "**Instructions:**\n",
    "- List three different ways the company could address the customer’s main problem.\n",
    "- For each approach, explain the pros and cons.\n",
    "- Then, select the best approach and justify your choice."
   ]
  },
  {
   "cell_type": "code",
   "execution_count": 10,
   "metadata": {},
   "outputs": [
    {
     "name": "stdout",
     "output_type": "stream",
     "text": [
      "Model response:\n",
      "Here are three approaches to address the customer's delivery and communication issues:\n",
      "\n",
      "1. Immediate Replacement Shipment\n",
      "Pros:\n",
      "- Quick resolution for the customer\n",
      "- Shows commitment to customer satisfaction\n",
      "- Eliminates further waiting time\n",
      "\n",
      "Cons:\n",
      "- Additional cost for the company\n",
      "- Original package might still arrive (duplicate shipment)\n",
      "- Doesn't address underlying tracking/communication issues\n",
      "\n",
      "2. Priority Customer Service Response\n",
      "Pros:\n",
      "- Provides personal attention to the issue\n",
      "- Can investigate and explain the specific problem\n",
      "- Maintains communication with customer\n",
      "\n",
      "Cons:\n",
      "- May take time to research the issue\n",
      "- Customer remains without their product\n",
      "- Requires additional customer service resources\n",
      "\n",
      "3. Automated Status Update + Compensation\n",
      "Pros:\n",
      "- Immediate acknowledgment of the problem\n",
      "- Customer gets clear timeline and compensation\n",
      "- Scalable solution for similar issues\n",
      "\n",
      "Cons:\n",
      "- Less personal approach\n",
      "- May not satisfy customers wanting immediate resolution\n",
      "- Additional cost of compensation\n",
      "\n",
      "Best Approach: Priority Customer Service Response\n",
      "\n",
      "Justification:\n",
      "This approach is best because it addresses both immediate concerns (locating the package) and systemic issues (tracking/communication problems). While it may not be the fastest solution, it provides the most sustainable resolution by:\n",
      "- Identifying the root cause of the delivery issue\n",
      "- Fixing the tracking link problem\n",
      "- Improving communication channels\n",
      "- Preventing similar issues in the future\n",
      "\n",
      "This approach also allows the company to maintain control of the situation and choose the most appropriate solution based on their investigation, whether that's expediting the original shipment, sending a replacement, or offering compensation.\n"
     ]
    },
    {
     "data": {
      "text/plain": [
       "\"Here are three approaches to address the customer's delivery and communication issues:\\n\\n1. Immediate Replacement Shipment\\nPros:\\n- Quick resolution for the customer\\n- Shows commitment to customer satisfaction\\n- Eliminates further waiting time\\n\\nCons:\\n- Additional cost for the company\\n- Original package might still arrive (duplicate shipment)\\n- Doesn't address underlying tracking/communication issues\\n\\n2. Priority Customer Service Response\\nPros:\\n- Provides personal attention to the issue\\n- Can investigate and explain the specific problem\\n- Maintains communication with customer\\n\\nCons:\\n- May take time to research the issue\\n- Customer remains without their product\\n- Requires additional customer service resources\\n\\n3. Automated Status Update + Compensation\\nPros:\\n- Immediate acknowledgment of the problem\\n- Customer gets clear timeline and compensation\\n- Scalable solution for similar issues\\n\\nCons:\\n- Less personal approach\\n- May not satisfy customers wanting immediate resolution\\n- Additional cost of compensation\\n\\nBest Approach: Priority Customer Service Response\\n\\nJustification:\\nThis approach is best because it addresses both immediate concerns (locating the package) and systemic issues (tracking/communication problems). While it may not be the fastest solution, it provides the most sustainable resolution by:\\n- Identifying the root cause of the delivery issue\\n- Fixing the tracking link problem\\n- Improving communication channels\\n- Preventing similar issues in the future\\n\\nThis approach also allows the company to maintain control of the situation and choose the most appropriate solution based on their investigation, whether that's expediting the original shipment, sending a replacement, or offering compensation.\""
      ]
     },
     "execution_count": 10,
     "metadata": {},
     "output_type": "execute_result"
    }
   ],
   "source": [
    "tree_of_thoughts_prompt = (\n",
    "    \"Read the customer feedback below:\\n\"\n",
    "    f\"{customer_feedback}\\n\\n\"\n",
    "    \"List three different ways the company could address the customer’s main problem.\\n\"\n",
    "    \"For each approach, explain the pros and cons.\\n\"\n",
    "    \"Then, select the best approach and justify your choice.\"\n",
    ")\n",
    "#Call your model here and print the response\n",
    "call_bedrock_model(tree_of_thoughts_prompt)"
   ]
  },
  {
   "cell_type": "markdown",
   "metadata": {},
   "source": [
    "## Student Reflection\n",
    "Which technique produced the most useful or reliable answer for this scenario? How did the model’s responses change as you refined your prompts?"
   ]
  }
 ],
 "metadata": {
  "kernelspec": {
   "display_name": "Python 3",
   "language": "python",
   "name": "python3"
  },
  "language_info": {
   "codemirror_mode": {
    "name": "ipython",
    "version": 3
   },
   "file_extension": ".py",
   "mimetype": "text/x-python",
   "name": "python",
   "nbconvert_exporter": "python",
   "pygments_lexer": "ipython3",
   "version": "3.9.6"
  }
 },
 "nbformat": 4,
 "nbformat_minor": 2
}
